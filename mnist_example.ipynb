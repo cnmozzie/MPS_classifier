{
 "cells": [
  {
   "cell_type": "code",
   "execution_count": 1,
   "metadata": {},
   "outputs": [],
   "source": [
    "import numpy as np\n",
    "import tensorflow as tf"
   ]
  },
  {
   "cell_type": "markdown",
   "metadata": {},
   "source": [
    "# Data preprocessing"
   ]
  },
  {
   "cell_type": "markdown",
   "metadata": {},
   "source": [
    "First let's load the MNIST dataset of hand-written digits from `tensorflow`."
   ]
  },
  {
   "cell_type": "code",
   "execution_count": 2,
   "metadata": {},
   "outputs": [
    {
     "name": "stdout",
     "output_type": "stream",
     "text": [
      "(60000, 28, 28) (60000,)\n",
      "(10000, 28, 28) (10000,)\n"
     ]
    }
   ],
   "source": [
    "mnist = tf.keras.datasets.mnist\n",
    "(x_train, y_train), (x_test, y_test) = mnist.load_data(path='mnist.npz')\n",
    "\n",
    "print(x_train.shape, y_train.shape)\n",
    "print(x_test.shape, y_test.shape)"
   ]
  },
  {
   "cell_type": "code",
   "execution_count": 3,
   "metadata": {},
   "outputs": [
    {
     "data": {
      "text/plain": [
       "<matplotlib.image.AxesImage at 0x21f8ce44150>"
      ]
     },
     "execution_count": 3,
     "metadata": {},
     "output_type": "execute_result"
    },
    {
     "data": {
      "image/png": "[encoded data removed]",
      "text/plain": [
       "<Figure size 640x480 with 1 Axes>"
      ]
     },
     "metadata": {},
     "output_type": "display_data"
    }
   ],
   "source": [
    "import matplotlib.pyplot as plt\n",
    "plt.imshow(np.reshape(x_train[np.random.randint(0,x_train.shape[0]),:],(28,28)))"
   ]
  },
  {
   "cell_type": "markdown",
   "metadata": {},
   "source": [
    "Next let's encode the data using the feature map $\\Phi (p) = (p, 1-p)^T$ and transform the labels to one-hot format."
   ]
  },
  {
   "cell_type": "code",
   "execution_count": 4,
   "metadata": {},
   "outputs": [
    {
     "name": "stdout",
     "output_type": "stream",
     "text": [
      "10\n",
      "(60000, 784, 2) (60000, 10)\n",
      "(10000, 784, 2) (10000, 10)\n"
     ]
    }
   ],
   "source": [
    "def data_encoder(data):\n",
    "  return np.array([1 - data, data]).transpose([1, 2, 0])\n",
    "\n",
    "def to_one_hot(labels, n_labels=10):\n",
    "  one_hot = np.zeros((len(labels), n_labels))\n",
    "  one_hot[np.arange(len(labels)), labels] = 1\n",
    "  return one_hot\n",
    "\n",
    "n_labels = len(np.unique(y_train))\n",
    "\n",
    "# Flatten and normalize\n",
    "x_train = x_train.reshape((len(x_train), np.prod(x_train.shape[1:]))) / 255.0\n",
    "x_test = x_test.reshape((len(x_test), np.prod(x_test.shape[1:]))) / 255.0\n",
    "# Encode\n",
    "x_train = data_encoder(x_train)\n",
    "x_test = data_encoder(x_test)\n",
    "y_train = to_one_hot(y_train)\n",
    "y_test = to_one_hot(y_test)\n",
    "\n",
    "print(n_labels)\n",
    "print(x_train.shape, y_train.shape)\n",
    "print(x_test.shape, y_test.shape)"
   ]
  },
  {
   "cell_type": "markdown",
   "metadata": {},
   "source": [
    "# Define MPS classifier"
   ]
  },
  {
   "cell_type": "markdown",
   "metadata": {},
   "source": [
    "Note that our MPS has one more site than the data because of the label tensor. We also have to set the bond dimension which is a hyperparameter and remains constant during training. In a more sophisticated implementation the bond dimension can be adaptively changed according to the complexity of training data by performing some SVD steps. This is currently not implemented but can be added in a future version."
   ]
  },
  {
   "cell_type": "code",
   "execution_count": 5,
   "metadata": {},
   "outputs": [],
   "source": [
    "import classifier\n",
    "mps = classifier.MatrixProductState(n_sites=x_train.shape[1] + 1,\n",
    "                                    n_labels=n_labels,\n",
    "                                    d_phys=x_train.shape[2],\n",
    "                                    d_bond=12)"
   ]
  },
  {
   "cell_type": "markdown",
   "metadata": {},
   "source": [
    "# Example training"
   ]
  },
  {
   "cell_type": "markdown",
   "metadata": {},
   "source": [
    "We can train the `mps` object we created using the `training.fit` data. Here we perform a quick training in a small portion of the data without validation."
   ]
  },
  {
   "cell_type": "code",
   "execution_count": 6,
   "metadata": {},
   "outputs": [
    {
     "name": "stdout",
     "output_type": "stream",
     "text": [
      "\n",
      "Epoch: 0\n",
      "Time: 5.020526170730591\n",
      "Loss: 2.2756474018096924\n",
      "Accuracy: 0.132\n",
      "Validation Accuracy: 0.28\n",
      "\n",
      "Epoch: 1\n",
      "Time: 9.9654860496521\n",
      "Loss: 1.7491366863250732\n",
      "Accuracy: 0.403\n",
      "Validation Accuracy: 0.63\n",
      "\n",
      "Epoch: 2\n",
      "Time: 15.049395084381104\n",
      "Loss: 1.059034824371338\n",
      "Accuracy: 0.685\n",
      "Validation Accuracy: 0.68\n",
      "\n",
      "Epoch: 3\n",
      "Time: 20.151012897491455\n",
      "Loss: 0.7035541534423828\n",
      "Accuracy: 0.77\n",
      "Validation Accuracy: 0.79\n",
      "\n",
      "Epoch: 4\n",
      "Time: 25.212619304656982\n",
      "Loss: 0.4989180862903595\n",
      "Accuracy: 0.848\n",
      "Validation Accuracy: 0.8\n",
      "\n",
      "Epoch: 5\n",
      "Time: 30.34337019920349\n",
      "Loss: 0.3561466634273529\n",
      "Accuracy: 0.89\n",
      "Validation Accuracy: 0.87\n",
      "\n",
      "Epoch: 6\n",
      "Time: 35.48620247840881\n",
      "Loss: 0.28487488627433777\n",
      "Accuracy: 0.916\n",
      "Validation Accuracy: 0.88\n",
      "\n",
      "Epoch: 7\n",
      "Time: 40.697208404541016\n",
      "Loss: 0.25619134306907654\n",
      "Accuracy: 0.922\n",
      "Validation Accuracy: 0.83\n",
      "\n",
      "Epoch: 8\n",
      "Time: 45.763519048690796\n",
      "Loss: 0.2346819043159485\n",
      "Accuracy: 0.93\n",
      "Validation Accuracy: 0.85\n",
      "\n",
      "Epoch: 9\n",
      "Time: 50.84604477882385\n",
      "Loss: 0.2686259150505066\n",
      "Accuracy: 0.911\n",
      "Validation Accuracy: 0.88\n"
     ]
    }
   ],
   "source": [
    "import training\n",
    "optimizer = tf.optimizers.Adam(learning_rate=1e-4)\n",
    "\n",
    "mps, history = training.fit(mps, optimizer, x_train[:1000], y_train[:1000], x_test[:100], y_test[:100],\n",
    "                            n_epochs=10, batch_size=50, n_message=1)"
   ]
  },
  {
   "cell_type": "code",
   "execution_count": null,
   "metadata": {},
   "outputs": [],
   "source": []
  }
 ],
 "metadata": {
  "kernelspec": {
   "display_name": "Python 3",
   "language": "python",
   "name": "python3"
  },
  "language_info": {
   "codemirror_mode": {
    "name": "ipython",
    "version": 3
   },
   "file_extension": ".py",
   "mimetype": "text/x-python",
   "name": "python",
   "nbconvert_exporter": "python",
   "pygments_lexer": "ipython3",
   "version": "3.11.8"
  }
 },
 "nbformat": 4,
 "nbformat_minor": 2
}
